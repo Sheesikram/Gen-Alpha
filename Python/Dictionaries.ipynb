{
 "cells": [
  {
   "cell_type": "markdown",
   "metadata": {},
   "source": [
    "Dictionary\n",
    "Dictionary in Python is a collection of keys values, used to store data values like a map, which, unlike other data types which hold only a single value as an element.\n",
    "\n",
    "In some languages it is known as map or assosiative arrays.\n",
    "\n",
    "dict = { 'name' : 'nitish' , 'age' : 33 , 'gender' : 'male' }\n",
    "\n",
    "Characterstics:\n",
    "\n",
    "Mutable\n",
    "Indexing has no meaning\n",
    "keys can't be duplicated\n",
    "keys can't be mutable items"
   ]
  },
  {
   "cell_type": "code",
   "execution_count": 4,
   "metadata": {},
   "outputs": [
    {
     "name": "stdout",
     "output_type": "stream",
     "text": [
      "{'name': 'Shees', 'age': 25, 'class': '8A', 'subjects': {'English': 50, 'Math': 70}}\n"
     ]
    }
   ],
   "source": [
    "d={}\n",
    "d\n",
    "d1={\"name\":\"Shees\",\"age\":25,\"class\":\"8A\",\"subjects\":{\n",
    "    \"English\":50,\n",
    "    \"Math\":70\n",
    "}}\n",
    "print(d1)"
   ]
  },
  {
   "cell_type": "code",
   "execution_count": 7,
   "metadata": {},
   "outputs": [
    {
     "name": "stdout",
     "output_type": "stream",
     "text": [
      "{'name': 'Shees', (1, 2, 3): 2}\n"
     ]
    }
   ],
   "source": [
    "# empty dictionary\n",
    "d = {}\n",
    "d\n",
    "# 1D dictionary\n",
    "d1 = { 'name' : 'nitish' ,'gender' : 'male' }\n",
    "d1\n",
    "# with mixed keys\n",
    "d2 = {(1,2,3):1,'hello':'world'}\n",
    "d2\n",
    "# 2D dictionary -> JSON\n",
    "s = {\n",
    "    'name':'Shees',\n",
    "     'college':'bit',\n",
    "     'sem':4,\n",
    "     'subjects':{\n",
    "         'dsa':50,\n",
    "         'maths':67,\n",
    "         'english':34\n",
    "     }\n",
    "}\n",
    "s\n",
    "# using sequence and dict function\n",
    "d4 = dict([('name','Shees'),('age',32),(3,3)])\n",
    "d4\n",
    "# duplicate keys\n",
    "d5 = {'name':'Shees','name':'rahul'}\n",
    "d5\n",
    "# mutable items as keys like not list \n",
    "# de= {'name':'Shees',[1,2,3]:2}\n",
    "# print(de)\n",
    "d6 = {'name':'Shees',(1,2,3):2}\n",
    "print(d6)"
   ]
  },
  {
   "cell_type": "code",
   "execution_count": 10,
   "metadata": {},
   "outputs": [
    {
     "data": {
      "text/plain": [
       "{'name': 'Shees',\n",
       " 'college': 'bit',\n",
       " 'sem': 4,\n",
       " 'subjects': {'dsa': 50, 'maths': 67, 'english': 34, 'ds': 75}}"
      ]
     },
     "execution_count": 10,
     "metadata": {},
     "output_type": "execute_result"
    }
   ],
   "source": [
    "s"
   ]
  },
  {
   "cell_type": "code",
   "execution_count": 8,
   "metadata": {},
   "outputs": [
    {
     "data": {
      "text/plain": [
       "67"
      ]
     },
     "execution_count": 8,
     "metadata": {},
     "output_type": "execute_result"
    }
   ],
   "source": [
    "my_dict = {'name': 'Jack', 'age': 26}\n",
    "# []\n",
    "my_dict['age']\n",
    "# get\n",
    "my_dict.get('age')\n",
    "\n",
    "s['subjects']['maths']"
   ]
  },
  {
   "cell_type": "code",
   "execution_count": 9,
   "metadata": {},
   "outputs": [
    {
     "data": {
      "text/plain": [
       "{'name': 'Shees',\n",
       " 'college': 'bit',\n",
       " 'sem': 4,\n",
       " 'subjects': {'dsa': 50, 'maths': 67, 'english': 34, 'ds': 75}}"
      ]
     },
     "execution_count": 9,
     "metadata": {},
     "output_type": "execute_result"
    }
   ],
   "source": [
    "d4['gender'] = 'male'\n",
    "d4\n",
    "d4['weight'] = 72\n",
    "d4\n",
    "\n",
    "s['subjects']['ds'] = 75\n",
    "s"
   ]
  },
  {
   "cell_type": "code",
   "execution_count": 11,
   "metadata": {},
   "outputs": [
    {
     "name": "stdout",
     "output_type": "stream",
     "text": [
      "{}\n"
     ]
    },
    {
     "data": {
      "text/plain": [
       "{'name': 'Shees',\n",
       " 'college': 'bit',\n",
       " 'sem': 4,\n",
       " 'subjects': {'dsa': 50, 'english': 34, 'ds': 75}}"
      ]
     },
     "execution_count": 11,
     "metadata": {},
     "output_type": "execute_result"
    }
   ],
   "source": [
    "d = {'name': 'Shees', 'age': 32, 3: 3, 'gender': 'male', 'weight': 72}\n",
    "# pop\n",
    "#d.pop(3)\n",
    "#print(d)\n",
    "# popitem\n",
    "#d.popitem()\n",
    "# d.popitem()\n",
    "# print(d)\n",
    "# del\n",
    "#del d['name']\n",
    "#print(d)\n",
    "# clear\n",
    "d.clear()\n",
    "print(d)\n",
    "\n",
    "del s['subjects']['maths']\n",
    "s"
   ]
  },
  {
   "cell_type": "code",
   "execution_count": 12,
   "metadata": {},
   "outputs": [
    {
     "data": {
      "text/plain": [
       "{'name': 'Shees',\n",
       " 'college': 'bit',\n",
       " 'sem': 4,\n",
       " 'subjects': {'dsa': 80, 'english': 34, 'ds': 75}}"
      ]
     },
     "execution_count": 12,
     "metadata": {},
     "output_type": "execute_result"
    }
   ],
   "source": [
    "s['subjects']['dsa'] = 80\n",
    "s"
   ]
  },
  {
   "cell_type": "markdown",
   "metadata": {},
   "source": [
    "### Dictionary Operations\n",
    "\n",
    "- Membership\n",
    "- Iteration"
   ]
  },
  {
   "cell_type": "code",
   "execution_count": 13,
   "metadata": {},
   "outputs": [
    {
     "name": "stdout",
     "output_type": "stream",
     "text": [
      "{'name': 'Shees', 'college': 'bit', 'sem': 4, 'subjects': {'dsa': 80, 'english': 34, 'ds': 75}}\n"
     ]
    },
    {
     "data": {
      "text/plain": [
       "True"
      ]
     },
     "execution_count": 13,
     "metadata": {},
     "output_type": "execute_result"
    }
   ],
   "source": [
    "print(s)\n",
    "\n",
    "'name' in s"
   ]
  },
  {
   "cell_type": "code",
   "execution_count": 15,
   "metadata": {},
   "outputs": [
    {
     "name": "stdout",
     "output_type": "stream",
     "text": [
      "name Shees\n",
      "gender male\n",
      "age 33\n"
     ]
    }
   ],
   "source": [
    "d = {'name':'Shees','gender':'male','age':33}\n",
    "for i in d:\n",
    "    print(i,d[i])"
   ]
  },
  {
   "cell_type": "markdown",
   "metadata": {},
   "source": [
    "Dictionary Function"
   ]
  },
  {
   "cell_type": "code",
   "execution_count": 16,
   "metadata": {},
   "outputs": [
    {
     "name": "stdout",
     "output_type": "stream",
     "text": [
      "{'name': 'Shees', 'gender': 'male', 'age': 33}\n"
     ]
    },
    {
     "data": {
      "text/plain": [
       "'name'"
      ]
     },
     "execution_count": 16,
     "metadata": {},
     "output_type": "execute_result"
    }
   ],
   "source": [
    "# len/sorted\n",
    "len(d)\n",
    "print(d)\n",
    "sorted(d,reverse=True)\n",
    "max(d)"
   ]
  },
  {
   "cell_type": "code",
   "execution_count": 17,
   "metadata": {},
   "outputs": [
    {
     "name": "stdout",
     "output_type": "stream",
     "text": [
      "{'name': 'Shees', 'gender': 'male', 'age': 33}\n",
      "dict_items([('name', 'Shees'), ('gender', 'male'), ('age', 33)])\n",
      "dict_keys(['name', 'gender', 'age'])\n",
      "dict_values(['Shees', 'male', 33])\n"
     ]
    }
   ],
   "source": [
    "# items/keys/values\n",
    "print(d)\n",
    "\n",
    "print(d.items())\n",
    "print(d.keys())\n",
    "print(d.values())"
   ]
  },
  {
   "cell_type": "code",
   "execution_count": 18,
   "metadata": {},
   "outputs": [
    {
     "name": "stdout",
     "output_type": "stream",
     "text": [
      "{1: 2, 3: 4, 4: 7, 6: 8}\n"
     ]
    }
   ],
   "source": [
    "# update\n",
    "d1 = {1:2,3:4,4:5}\n",
    "d2 = {4:7,6:8}\n",
    "\n",
    "d1.update(d2)\n",
    "print(d1)"
   ]
  },
  {
   "cell_type": "code",
   "execution_count": 19,
   "metadata": {},
   "outputs": [
    {
     "data": {
      "text/plain": [
       "{1: 1, 2: 4, 3: 9, 4: 16, 5: 25, 6: 36, 7: 49, 8: 64, 9: 81, 10: 100}"
      ]
     },
     "execution_count": 19,
     "metadata": {},
     "output_type": "execute_result"
    }
   ],
   "source": [
    "# print 1st 10 numbers and their squares\n",
    "{i:i**2 for i in range(1,11)}"
   ]
  },
  {
   "cell_type": "code",
   "execution_count": 20,
   "metadata": {},
   "outputs": [
    {
     "name": "stdout",
     "output_type": "stream",
     "text": [
      "dict_items([('delhi', 1000), ('mumbai', 2000), ('bangalore', 3000)])\n"
     ]
    }
   ],
   "source": [
    "distances = {'delhi':1000,'mumbai':2000,'bangalore':3000}\n",
    "print(distances.items())"
   ]
  },
  {
   "cell_type": "code",
   "execution_count": 21,
   "metadata": {},
   "outputs": [
    {
     "data": {
      "text/plain": [
       "{'delhi': 620.0, 'mumbai': 1240.0, 'bangalore': 1860.0}"
      ]
     },
     "execution_count": 21,
     "metadata": {},
     "output_type": "execute_result"
    }
   ],
   "source": [
    "# using existing dict\n",
    "distances = {'delhi':1000,'mumbai':2000,'bangalore':3000}\n",
    "{key:value*0.62 for (key,value) in distances.items()}"
   ]
  },
  {
   "cell_type": "code",
   "execution_count": 22,
   "metadata": {},
   "outputs": [
    {
     "data": {
      "text/plain": [
       "{'Sunday': 30.5,\n",
       " 'Monday': 32.6,\n",
       " 'Tuesday': 31.8,\n",
       " 'Wednesday': 33.4,\n",
       " 'Thursday': 29.8,\n",
       " 'Friday': 30.2,\n",
       " 'Saturday': 29.9}"
      ]
     },
     "execution_count": 22,
     "metadata": {},
     "output_type": "execute_result"
    }
   ],
   "source": [
    "# using zip\n",
    "days = [\"Sunday\", \"Monday\",\"Tuesday\",\"Wednesday\",\"Thursday\",\"Friday\",\"Saturday\"]\n",
    "temp_C = [30.5,32.6,31.8,33.4,29.8,30.2,29.9]\n",
    "\n",
    "{i:j for (i,j) in zip(days,temp_C)}"
   ]
  },
  {
   "cell_type": "code",
   "execution_count": 23,
   "metadata": {},
   "outputs": [
    {
     "data": {
      "text/plain": [
       "{'phone': 10, 'charger': 32}"
      ]
     },
     "execution_count": 23,
     "metadata": {},
     "output_type": "execute_result"
    }
   ],
   "source": [
    "# using if condition\n",
    "products = {'phone':10,'laptop':0,'charger':32,'tablet':0}\n",
    "\n",
    "{key:value for (key,value) in products.items() if value>0}"
   ]
  },
  {
   "cell_type": "code",
   "execution_count": 24,
   "metadata": {},
   "outputs": [
    {
     "data": {
      "text/plain": [
       "{2: {1: 2, 2: 4, 3: 6, 4: 8, 5: 10, 6: 12, 7: 14, 8: 16, 9: 18, 10: 20},\n",
       " 3: {1: 3, 2: 6, 3: 9, 4: 12, 5: 15, 6: 18, 7: 21, 8: 24, 9: 27, 10: 30},\n",
       " 4: {1: 4, 2: 8, 3: 12, 4: 16, 5: 20, 6: 24, 7: 28, 8: 32, 9: 36, 10: 40}}"
      ]
     },
     "execution_count": 24,
     "metadata": {},
     "output_type": "execute_result"
    }
   ],
   "source": [
    "# Nested Comprehension\n",
    "# print tables of number from 2 to 4\n",
    "{i:{j:i*j for j in range(1,11)} for i in range(2,5)}"
   ]
  }
 ],
 "metadata": {
  "kernelspec": {
   "display_name": "venv",
   "language": "python",
   "name": "python3"
  },
  "language_info": {
   "codemirror_mode": {
    "name": "ipython",
    "version": 3
   },
   "file_extension": ".py",
   "mimetype": "text/x-python",
   "name": "python",
   "nbconvert_exporter": "python",
   "pygments_lexer": "ipython3",
   "version": "3.12.3"
  }
 },
 "nbformat": 4,
 "nbformat_minor": 2
}
